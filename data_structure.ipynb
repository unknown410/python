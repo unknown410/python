{
 "cells": [
  {
   "cell_type": "code",
   "execution_count": 31,
   "metadata": {},
   "outputs": [
    {
     "name": "stdout",
     "output_type": "stream",
     "text": [
      "True\n",
      "stack is empty\n",
      "None\n",
      "[]\n",
      "True\n"
     ]
    }
   ],
   "source": [
    "class Stack():\n",
    "    def __init__(self):\n",
    "        self.items=[]\n",
    "        \n",
    "    def push(self,item):\n",
    "        return self.items.append(item)\n",
    "    \n",
    "    def pop(self):\n",
    "        return self.items.pop()\n",
    "    \n",
    "    def peek(self):\n",
    "        if not self.is_empty():\n",
    "            return self.items[-1]\n",
    "        else:\n",
    "            return print(\"stack is empty\")\n",
    "         \n",
    "    \n",
    "    def is_empty(self):\n",
    "        return self.items==[]\n",
    "\n",
    "        \n",
    "    def get_stack(self):\n",
    "        return self.items\n",
    "\n",
    "    \n",
    "    \n",
    "    \n",
    "    \n",
    "s= Stack()\n",
    "print(s.is_empty())\n",
    "s.push(\"A\")\n",
    "print(s.get_stack())\n",
    "s.push(\"B\")\n",
    "print(s.get_stack())\n",
    "s.push(\"C\")\n",
    "print(s.get_stack())\n",
    "s.push(\"D\")\n",
    "print(s.get_stack())\n",
    "print(s.peek())\n",
    "s.pop()\n",
    "print(s.get_stack())\n",
    "print(s.is_empty())"
   ]
  },
  {
   "cell_type": "code",
   "execution_count": null,
   "metadata": {},
   "outputs": [],
   "source": []
  }
 ],
 "metadata": {
  "kernelspec": {
   "display_name": "Python 3",
   "language": "python",
   "name": "python3"
  },
  "language_info": {
   "codemirror_mode": {
    "name": "ipython",
    "version": 3
   },
   "file_extension": ".py",
   "mimetype": "text/x-python",
   "name": "python",
   "nbconvert_exporter": "python",
   "pygments_lexer": "ipython3",
   "version": "3.7.3"
  }
 },
 "nbformat": 4,
 "nbformat_minor": 2
}
