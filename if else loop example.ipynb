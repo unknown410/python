{
 "cells": [
  {
   "cell_type": "code",
   "execution_count": 3,
   "metadata": {},
   "outputs": [
    {
     "name": "stdout",
     "output_type": "stream",
     "text": [
      "13 is a positive number.\n",
      "This is always printed.\n"
     ]
    }
   ],
   "source": [
    "num = 13\n",
    "if num > 0:\n",
    "    print(num, \"is a positive number.\")\n",
    "print(\"This is always printed.\")\n"
   ]
  },
  {
   "cell_type": "code",
   "execution_count": null,
   "metadata": {},
   "outputs": [],
   "source": []
  },
  {
   "cell_type": "code",
   "execution_count": 2,
   "metadata": {},
   "outputs": [
    {
     "name": "stdout",
     "output_type": "stream",
     "text": [
      "This is a negative number.\n"
     ]
    }
   ],
   "source": [
    "num = -1\n",
    "if num > 0:\n",
    "    print(num, \"is a positive number.\")\n",
    "print(\"This is a negative number.\")"
   ]
  },
  {
   "cell_type": "markdown",
   "metadata": {},
   "source": [
    "Syntax of if...else\n",
    "\n",
    "if test expression:\n",
    "\n",
    "    Body of if\n",
    "    \n",
    "else:\n",
    "\n",
    "    Body of else"
   ]
  },
  {
   "cell_type": "code",
   "execution_count": 7,
   "metadata": {},
   "outputs": [
    {
     "name": "stdout",
     "output_type": "stream",
     "text": [
      "Positive number\n"
     ]
    }
   ],
   "source": [
    "# Program checks if the number is positive or negative\n",
    "# And displays a message\n",
    "\n",
    "num = 34\n",
    "# Try these two variations as well. \n",
    "# num = -35\n",
    "# num = 0\n",
    "\n",
    "if num >= 0:\n",
    "    print(\"Positive number\")\n",
    "else:\n",
    "    print(\"Negative number\")"
   ]
  },
  {
   "cell_type": "markdown",
   "metadata": {},
   "source": [
    "# Syntax of if...elif...else"
   ]
  },
  {
   "cell_type": "markdown",
   "metadata": {},
   "source": [
    "if test expression:\n",
    "\n",
    "    Body of if\n",
    "    \n",
    "elif test expression:\n",
    "\n",
    "    Body of elif\n",
    "    \n",
    "else: \n",
    "    \n",
    "    Body of else"
   ]
  },
  {
   "cell_type": "code",
   "execution_count": 10,
   "metadata": {},
   "outputs": [
    {
     "name": "stdout",
     "output_type": "stream",
     "text": [
      "Zero\n"
     ]
    }
   ],
   "source": [
    "# In this program, \n",
    "# we check if the number is positive or\n",
    "# negative or zero and \n",
    "# display an appropriate message\n",
    "\n",
    "num = 0\n",
    "\n",
    "# Try these two variations as well:\n",
    "# num = 0\n",
    "# num = -14.5\n",
    "\n",
    "if num > 0:\n",
    "    print(\"Positive number\")\n",
    "elif num == 0:\n",
    "    print(\"Zero\")\n",
    "else:\n",
    "    print(\"Negative number\")"
   ]
  },
  {
   "cell_type": "code",
   "execution_count": 13,
   "metadata": {},
   "outputs": [
    {
     "name": "stdout",
     "output_type": "stream",
     "text": [
      "Enter a number: 0\n",
      "Zero\n"
     ]
    }
   ],
   "source": [
    "# In this program, we input a number check if the number is positive\n",
    "#or negative or zero and display an appropriate message\n",
    "# This time we use nested if\n",
    "\n",
    "num = float(input(\"Enter a number: \"))\n",
    "if num >= 0:\n",
    "    if num == 0:\n",
    "        print(\"Zero\")\n",
    "    else:\n",
    "        print(\"Positive number\")\n",
    "else:\n",
    "    print(\"Negative number\")"
   ]
  },
  {
   "cell_type": "markdown",
   "metadata": {},
   "source": [
    "# Mini calculator project"
   ]
  },
  {
   "cell_type": "code",
   "execution_count": 1,
   "metadata": {},
   "outputs": [
    {
     "name": "stdout",
     "output_type": "stream",
     "text": [
      "Enter first number: 43\n",
      "Enter operator: +\n",
      "Enter second number: 25\n",
      "68.0\n"
     ]
    }
   ],
   "source": [
    "num1 = float(input(\"Enter first number: \"))\n",
    "op = input(\"Enter operator: \")\n",
    "num2 = float(input(\"Enter second number: \"))\n",
    "if op == \"+\":\n",
    "        print(num1 + num2)\n",
    "elif op == \"-\":\n",
    "    print(num1 - num2)\n",
    "elif op == \"/\":\n",
    "    print(num1 / num2)\n",
    "elif op == \"*\":\n",
    "    print(num1* num2)\n",
    "else:\n",
    "    print(\"invalid operator\")"
   ]
  },
  {
   "cell_type": "code",
   "execution_count": null,
   "metadata": {},
   "outputs": [],
   "source": [
    "# Program make a simple calculator that can add, subtract, multiply and divide using functions\n",
    "\n",
    "# This function adds two numbers \n",
    "def add(x, y):\n",
    "   return x + y\n",
    "\n",
    "# This function subtracts two numbers \n",
    "def subtract(x, y):\n",
    "   return x - y\n",
    "\n",
    "# This function multiplies two numbers\n",
    "def multiply(x, y):\n",
    "   return x * y\n",
    "\n",
    "# This function divides two numbers\n",
    "def divide(x, y):\n",
    "   return x / y\n",
    "\n",
    "print(\"Select operation.\")\n",
    "print(\"1.Add\")\n",
    "print(\"2.Subtract\")\n",
    "print(\"3.Multiply\")\n",
    "print(\"4.Divide\")\n",
    "\n",
    "# Take input from the user \n",
    "choice = input(\"Enter choice(1/2/3/4):\")\n",
    "\n",
    "num1 = int(input(\"Enter first number: \"))\n",
    "num2 = int(input(\"Enter second number: \"))\n",
    "\n",
    "if choice == '1':\n",
    "   print(num1,\"+\",num2,\"=\", add(num1,num2))\n",
    "\n",
    "elif choice == '2':\n",
    "   print(num1,\"-\",num2,\"=\", subtract(num1,num2))\n",
    "\n",
    "elif choice == '3':\n",
    "   print(num1,\"*\",num2,\"=\", multiply(num1,num2))\n",
    "\n",
    "elif choice == '4':\n",
    "   print(num1,\"/\",num2,\"=\", divide(num1,num2))\n",
    "else:\n",
    "   print(\"Invalid input\")"
   ]
  },
  {
   "cell_type": "code",
   "execution_count": null,
   "metadata": {
    "scrolled": true
   },
   "outputs": [],
   "source": [
    "operation = input('''\n",
    "Please type in the math operation you would like to complete:\n",
    "+ for addition\n",
    "- for subtraction\n",
    "* for multiplication\n",
    "/ for division\n",
    "''')\n",
    "\n",
    "number_1 = int(input('Enter your first number: '))\n",
    "number_2 = int(input('Enter your second number: '))\n",
    "\n",
    "if operation == '+':\n",
    "    print('{} + {} = '.format(number_1, number_2))\n",
    "    print(number_1 + number_2)\n",
    "\n",
    "elif operation == '-':\n",
    "    print('{} - {} = '.format(number_1, number_2))\n",
    "    print(number_1 - number_2)\n",
    "\n",
    "elif operation == '*':\n",
    "    print('{} * {} = '.format(number_1, number_2))\n",
    "    print(number_1 * number_2)\n",
    "\n",
    "elif operation == '/':\n",
    "    print('{} / {} = '.format(number_1, number_2))\n",
    "    print(number_1 / number_2)\n",
    "\n",
    "else:\n",
    "    print('You have not typed a valid operator, please run the program again.')"
   ]
  },
  {
   "cell_type": "markdown",
   "metadata": {},
   "source": [
    "# Function to compare 3 numbers"
   ]
  },
  {
   "cell_type": "code",
   "execution_count": 6,
   "metadata": {},
   "outputs": [],
   "source": [
    "def max_num(num1 , num2, num3):\n",
    "    if num1 >= num2 and num1 >= num3:\n",
    "        return num1\n",
    "    elif num2 >= num1 and num2 >= num3:\n",
    "        return num2\n",
    "    else:\n",
    "        return num3"
   ]
  },
  {
   "cell_type": "code",
   "execution_count": 7,
   "metadata": {},
   "outputs": [
    {
     "data": {
      "text/plain": [
       "34"
      ]
     },
     "execution_count": 7,
     "metadata": {},
     "output_type": "execute_result"
    }
   ],
   "source": [
    "max_num(34,7,8)"
   ]
  },
  {
   "cell_type": "code",
   "execution_count": null,
   "metadata": {},
   "outputs": [],
   "source": []
  },
  {
   "cell_type": "code",
   "execution_count": null,
   "metadata": {},
   "outputs": [],
   "source": [
    "factorial(3)"
   ]
  },
  {
   "cell_type": "code",
   "execution_count": null,
   "metadata": {},
   "outputs": [],
   "source": [
    "import math"
   ]
  },
  {
   "cell_type": "code",
   "execution_count": null,
   "metadata": {},
   "outputs": [],
   "source": [
    "factorial(4)"
   ]
  },
  {
   "cell_type": "code",
   "execution_count": null,
   "metadata": {},
   "outputs": [],
   "source": [
    "import math\n",
    "\n",
    "number = int(input(\"Enter number for factorial calculation:\"))\n",
    "\n",
    "fact = math.factorial(number)\n",
    "\n",
    "print(f\"factorial({number}) = {fact}\")\n"
   ]
  },
  {
   "cell_type": "code",
   "execution_count": null,
   "metadata": {},
   "outputs": [],
   "source": [
    "    value1 = int(input(\"Enter a 1st number\"))\n",
    "    value2 = int(input(\"Enter a 2nd Number\"))\n",
    "    value = value1 / value2\n",
    "    print(value)"
   ]
  },
  {
   "cell_type": "markdown",
   "metadata": {},
   "source": [
    "# Error handling: Try and Except"
   ]
  },
  {
   "cell_type": "code",
   "execution_count": null,
   "metadata": {},
   "outputs": [],
   "source": [
    "#The try block lets you test a block of code for errors.\n",
    "#The except block lets you handle the error.\n",
    "\n",
    "#Code Example:\n",
    "try:\n",
    "….#This can be any code\n",
    "except:\n",
    "…# error handling code goes here\n",
    "finally.\n",
    "…# code that will be executed regardless of exception handling goes here."
   ]
  },
  {
   "cell_type": "code",
   "execution_count": 1,
   "metadata": {},
   "outputs": [
    {
     "ename": "NameError",
     "evalue": "name 'a' is not defined",
     "output_type": "error",
     "traceback": [
      "\u001b[1;31m---------------------------------------------------------------------------\u001b[0m",
      "\u001b[1;31mNameError\u001b[0m                                 Traceback (most recent call last)",
      "\u001b[1;32m<ipython-input-1-bca0e2660b9f>\u001b[0m in \u001b[0;36m<module>\u001b[1;34m()\u001b[0m\n\u001b[1;32m----> 1\u001b[1;33m \u001b[0mprint\u001b[0m\u001b[1;33m(\u001b[0m\u001b[0ma\u001b[0m\u001b[1;33m)\u001b[0m\u001b[1;33m\u001b[0m\u001b[0m\n\u001b[0m",
      "\u001b[1;31mNameError\u001b[0m: name 'a' is not defined"
     ]
    }
   ],
   "source": [
    "print(a)"
   ]
  },
  {
   "cell_type": "code",
   "execution_count": 1,
   "metadata": {},
   "outputs": [
    {
     "name": "stdout",
     "output_type": "stream",
     "text": [
      "Variable is not defined\n"
     ]
    }
   ],
   "source": [
    "try:\n",
    "  print(a)\n",
    "except:\n",
    "  print(\"Variable is not defined\")"
   ]
  },
  {
   "cell_type": "code",
   "execution_count": 3,
   "metadata": {},
   "outputs": [
    {
     "name": "stdout",
     "output_type": "stream",
     "text": [
      "Variable is not defined\n"
     ]
    }
   ],
   "source": [
    "try:\n",
    "  print(b)\n",
    "except NameError:\n",
    "  print(\"Variable is not defined\")\n",
    "except:\n",
    "  print(\"Something else went wrong\")"
   ]
  },
  {
   "cell_type": "code",
   "execution_count": null,
   "metadata": {},
   "outputs": [
    {
     "name": "stdout",
     "output_type": "stream",
     "text": [
      "Please enter a number: gfhgfjfjf\n",
      "Oops!  That was no valid number.  Try again...\n"
     ]
    }
   ],
   "source": [
    "while True:\n",
    "    try:\n",
    "        x = int(input(\"Please enter a number: \"))\n",
    "        break\n",
    "    except ValueError:\n",
    "            print(\"Oops!  That was no valid number.  Try again...\")"
   ]
  },
  {
   "cell_type": "code",
   "execution_count": null,
   "metadata": {},
   "outputs": [],
   "source": [
    "while True:\n",
    "    try:\n",
    "        x = int(input(\"Please enter a number: \"))\n",
    "        break\n",
    "    except:\n",
    "            print(\"Oops!  That was no valid number.  Try again...\")"
   ]
  },
  {
   "cell_type": "code",
   "execution_count": null,
   "metadata": {},
   "outputs": [],
   "source": [
    "while True:\n",
    "    try:\n",
    "        x = input(\"Please enter your name: \"))\n",
    "        break\n",
    "    except ValueError:\n",
    "            print(\"Oops!  That was no valid number.  Try again...\")"
   ]
  },
  {
   "cell_type": "code",
   "execution_count": null,
   "metadata": {},
   "outputs": [],
   "source": [
    "def divide(x, y):\n",
    "    try:\n",
    "        result = x / y\n",
    "    except ZeroDivisionError:\n",
    "            print(\"division by zero!\")\n",
    "    else:\n",
    "            print(\"result is\", result)\n",
    "    finally:\n",
    "            print(\"executing finally clause\")"
   ]
  },
  {
   "cell_type": "code",
   "execution_count": 3,
   "metadata": {},
   "outputs": [],
   "source": [
    "import math"
   ]
  },
  {
   "cell_type": "code",
   "execution_count": 5,
   "metadata": {},
   "outputs": [
    {
     "data": {
      "text/plain": [
       "0.0"
      ]
     },
     "execution_count": 5,
     "metadata": {},
     "output_type": "execute_result"
    }
   ],
   "source": [
    "math.sin(0)"
   ]
  },
  {
   "cell_type": "code",
   "execution_count": 7,
   "metadata": {},
   "outputs": [
    {
     "data": {
      "text/plain": [
       "3.1622776601683795"
      ]
     },
     "execution_count": 7,
     "metadata": {},
     "output_type": "execute_result"
    }
   ],
   "source": [
    "a = 3 + 7\n",
    "math.sqrt(a)"
   ]
  },
  {
   "cell_type": "code",
   "execution_count": 8,
   "metadata": {},
   "outputs": [
    {
     "data": {
      "text/plain": [
       "2.6457513110645907"
      ]
     },
     "execution_count": 8,
     "metadata": {},
     "output_type": "execute_result"
    }
   ],
   "source": [
    "math.sqrt(7)"
   ]
  },
  {
   "cell_type": "code",
   "execution_count": null,
   "metadata": {},
   "outputs": [],
   "source": [
    "#Python has two primitive loop commands:\n",
    "#while loops: we can execute a set of statements as long as a condition is true.\n",
    "    #Note: remember to increment i, or else the loop will continue forever.\n",
    "#for loops:are used for iterating over a sequence(either a list, a tuple, a dictionary, a set, or a string).\n",
    "           #does not require an indexing variable to set beforehand. "
   ]
  },
  {
   "cell_type": "code",
   "execution_count": null,
   "metadata": {},
   "outputs": [],
   "source": []
  },
  {
   "cell_type": "code",
   "execution_count": null,
   "metadata": {},
   "outputs": [],
   "source": []
  },
  {
   "cell_type": "code",
   "execution_count": 2,
   "metadata": {},
   "outputs": [
    {
     "name": "stdout",
     "output_type": "stream",
     "text": [
      "red apple\n",
      "red banana\n",
      "red cherry\n",
      "big apple\n",
      "big banana\n",
      "big cherry\n",
      "tasty apple\n",
      "tasty banana\n",
      "tasty cherry\n"
     ]
    }
   ],
   "source": [
    "adj = [\"red\", \"big\", \"tasty\"]\n",
    "fruits = [\"apple\", \"banana\", \"cherry\"]\n",
    "\n",
    "for x in adj:\n",
    "  for y in fruits:\n",
    "    print(x, y)"
   ]
  },
  {
   "cell_type": "code",
   "execution_count": null,
   "metadata": {},
   "outputs": [],
   "source": [
    "ans= input(\"Why you like to code in python?: \" ).strip().lower()\n",
    "while ans != \"just like that\":\n",
    "    ans = input(\"but why?: \")\n",
    "    "
   ]
  },
  {
   "cell_type": "code",
   "execution_count": null,
   "metadata": {},
   "outputs": [],
   "source": [
    "from random import choice\n",
    "ques = [\"why there is face in moon\", \"where are all dinosaurs\", \"why the sky is blue\"]\n",
    "ques = choice(ques)\n",
    "ans = input(ques) .strip().lower()\n",
    "while ans != \"just like that\":\n",
    "    ans = input(\"but why?: \").strip().lower()"
   ]
  },
  {
   "cell_type": "code",
   "execution_count": null,
   "metadata": {},
   "outputs": [],
   "source": [
    "# # calculator\n",
    "num = float( input( \" enter first number \")) \n",
    "operator = input( \" which operation you want to perform \")\n",
    "num2 = float( input( \" enter second number\"))\n",
    "\n",
    "# this function perform addition\n",
    "def add( num , num2):\n",
    "    return num + num2\n",
    "\n",
    "# this function perform multiplication\n",
    "def multiply( num , num2):\n",
    "    return num * num2\n",
    "\n",
    "# this function perform substraction\n",
    "def substract( num , num2 ):\n",
    "    return num - num2\n",
    "\n",
    "# this function perform division\n",
    "def divide( num , num2 ):\n",
    "    return num / num2\n",
    "\n",
    "#this function square the number\n",
    "def square ( num ):\n",
    "    return num**2\n",
    "\n",
    "# this function cube the number\n",
    "def cube ( num ):\n",
    "    return num**3\n",
    "\n",
    "if operator == '+' :\n",
    "    print( num , \"+\" , num2 , \"=\" , add( num , num2))\n",
    "elif operator ==  \"*\" :\n",
    "    print( num , \"*\" , num2 , \"=\" , multiply( num , num2))\n",
    "elif operator == \"-\" :\n",
    "    print ( num , \"-\" , num2 , \"=\" , substract( num , num2))\n",
    "elif operator == \"/\" :\n",
    "    \n",
    "    print ( num , \"/\" , num2 , \"=\" , divide( num , num2))\n",
    "elif operator == \"**\":\n",
    "    print ( num , \"**\" , \"=\" , square ( num))\n",
    "elif operator == \"**\":\n",
    "    print (num , \"**\" , \"=\" , cube (num ,))\n",
    "else :\n",
    "    print (\" press the correct operator button\")\n"
   ]
  },
  {
   "cell_type": "code",
   "execution_count": null,
   "metadata": {},
   "outputs": [],
   "source": [
    "# #  Random number game using def\n",
    "\n",
    "import random\n",
    "random_number = random.randint(1 , 10 )\n",
    "\n",
    "      \n",
    "def function():\n",
    "    number = float(input(' enter your number' ))\n",
    "    if number > random_number:\n",
    "        print( 'your number is greater than random_number ')\n",
    "        function()\n",
    "    elif number < random_number:\n",
    "        print( ' your number is smaller than random_number ')\n",
    "        function()\n",
    "    elif number == random_number:\n",
    "        print(' congratulation you win ' )\n",
    "    else :\n",
    "        function()\n",
    "        print(' number is not in the range')\n",
    "\n",
    "function() "
   ]
  },
  {
   "cell_type": "code",
   "execution_count": null,
   "metadata": {},
   "outputs": [],
   "source": [
    "# # Random number using while\n",
    "myname = input('hello, what is your name!  ').capitalize()\n",
    "print( myname , 'am thinking the number ')\n",
    "number = random.randint( 1 , 100 )\n",
    "guess = 0\n",
    "while guess <=4:\n",
    "    guess_number = int( input( 'guess the random number: '))\n",
    "    guess =+1\n",
    "    if guess_number > number :\n",
    "        print(' your number is too high ')\n",
    "    if guess_number < number :\n",
    "        print (' your number is too low' )\n",
    "    if guess_number == number:\n",
    "        print(' congratulations you win')\n",
    "        break\n",
    "    if guess == 4 :\n",
    "        break\n",
    "print (' random number is  ' , number)  "
   ]
  },
  {
   "cell_type": "code",
   "execution_count": null,
   "metadata": {},
   "outputs": [],
   "source": [
    "# # try and  except\n",
    "import random\n",
    "\n",
    "random_number1 = random.randint( 1 , 100)\n",
    "tries = 0\n",
    "tries_remaining = 5\n",
    "\n",
    "while tries < 5:\n",
    "    guess = input (' guess a number between 1 to 100 ')\n",
    "    tries += 1\n",
    "    tries_remaining -= 1\n",
    "    \n",
    "    try :\n",
    "        guess_num = int(guess)\n",
    "    except :\n",
    "        print( ' this is not an whole number! ')\n",
    "        break\n",
    "    if not guess_num > 0 or guess_num < 101:\n",
    "        print(' this number is not between 1 to 100 ')\n",
    "        break\n",
    "    \n",
    "    elif guess_number == random_number1 :\n",
    "        print('congratulation you win  ')\n",
    "        print(' it took you {} attempt' . format(tries))\n",
    "        break\n",
    "        \n",
    "    elif guess_number > random_number1:\n",
    "        if tries_remaining > 0:\n",
    "            print(\" I'm sorry  this number is high . you have {} tries remaining\" . format(int(tries_remaining))\n",
    "            \n",
    "        else:\n",
    "             print(\" sorry but number was {}\" .format(random_number1))\n",
    "             print(\"you are out of tries better luck next time. \")\n",
    "             \n",
    "    \n",
    "    elif guess_number < random_number1:\n",
    "        if tries_remaining > 0:\n",
    "            print(\" I'm sorry this number is low . you have {} tries remaining\" . format( int(tries_remaining)))\n",
    "            \n",
    "        else:\n",
    "            print(\" sorry but number was {}\" .format(random_number1))\n",
    "            print(\"you are out of tries better luck next time. \")\n",
    "\n",
    "print(random_number1)                       \n",
    "                  "
   ]
  },
  {
   "cell_type": "code",
   "execution_count": null,
   "metadata": {},
   "outputs": [
    {
     "name": "stdout",
     "output_type": "stream",
     "text": [
      " \n",
      "Hi my name is Jarvis , I am your assistant today \n",
      " \n",
      "how may i help you \n"
     ]
    }
   ],
   "source": [
    "\n",
    "# # converstaion bot\n",
    "guest_list = ['Nick' , ' John' , ' Rock' , ' Priyanka' , ' Alexa']\n",
    "party_menu = []\n",
    "print(\" \\nHi my name is Jarvis , I am your assistant today \")\n",
    "print(\" \\nhow may i help you \")\n",
    "name = input (\" \\nHello, what is your name :  \").strip().capitalize()\n",
    "#print(\" Let me check if your name is in the list\" , )\n",
    "\n",
    "while True :\n",
    "    \n",
    "    if name in guest_list:\n",
    "        print(\"\\n you are most welcome , make yourself comfortable {}\". format(name))\n",
    "        menu = input(\" what would you like to have (tea / cofee / burger / sweet):  \").lower()\n",
    "        party_menu.append(menu)\n",
    "        \n",
    "        if menu == 'tea' :\n",
    "            print(\" \\nwait {} , your {} would be serve soon \". format(name , menu))\n",
    "        if menu == ' cofee':\n",
    "            print(\" \\nwait {} , your {} would be serve soon \". format( name , menu))\n",
    "        if menu == 'burger':\n",
    "            print(\" \\nwhich one would you like to have {} \".format(name))\n",
    "            \n",
    "            choice = input(\" we have ( cheese , aalo tikki , maharaja) :  \" ).capitalize()\n",
    "            \n",
    "        if choice ==  'cheese':\n",
    "            print(\" \\n {} kindly collect your order after 10 minutes\" . format(name))\n",
    "            \n",
    "            \n",
    "        if choice == 'aalo tikki':\n",
    "            print(\" \\n{} kindly collect your order in 5 minutes \" . format(name))\n",
    "            \n",
    "        if choice == 'maharaja':\n",
    "            print( \" \\n{} kindly collect your order in 15 minutes \". format(name))\n",
    "            continue\n",
    "        \n",
    "        if menu == 'sweet' :\n",
    "            print(\" \\ngreat choice {} \" . format(name))\n",
    "        \n",
    "        else:\n",
    "            remove = input(\" \\nIs there anything you are not liking in the menu? (y/n):  \")\n",
    "            break\n",
    "\n",
    "        if remove== 'y' :\n",
    "            ask = input(\" \\nwhat would you like to delete from menu  : \")\n",
    "            if ask in party_menu :\n",
    "                party_menu.remove(ask)\n",
    "            else :\n",
    "                continue\n",
    "            \n",
    "        else:\n",
    "            print(\"   \")\n",
    "            \n",
    "            #question = input( \" May i help you in any other way (y/n): \")\n",
    "            \n",
    "            #if question == 'y':\n",
    "                #create = str(list(lst))       \n",
    "            \n",
    "        #try:\n",
    "            # print (party_menu)\n",
    "            \n",
    "        #except Valueerror :\n",
    "           # print(\" list is not updated \")\n",
    "\n",
    "                \n",
    "    if not name in guest_list:\n",
    "        \n",
    "            print( \" \\nHi {} let me check if you are in the guest list \" .format (name))\n",
    "            print(\"\\n you are not in the guest list {}\" . format(name))\n",
    "            choice = input(\"\\n would you like to add your name in the list ? (y/n)\" )\n",
    "           \n",
    "            if choice == 'y':\n",
    "                guest_list.append(name)\n",
    "                print(guest_list)\n",
    "            else :\n",
    "                print(\" \\nThank you \")\n",
    "                print(guest_list)\n",
    "                print(party_menu)\n",
    "                break\n",
    "                                  "
   ]
  },
  {
   "cell_type": "code",
   "execution_count": null,
   "metadata": {},
   "outputs": [],
   "source": []
  },
  {
   "cell_type": "code",
   "execution_count": null,
   "metadata": {},
   "outputs": [],
   "source": []
  },
  {
   "cell_type": "code",
   "execution_count": null,
   "metadata": {},
   "outputs": [],
   "source": []
  }
 ],
 "metadata": {
  "kernelspec": {
   "display_name": "Python 3",
   "language": "python",
   "name": "python3"
  },
  "language_info": {
   "codemirror_mode": {
    "name": "ipython",
    "version": 3
   },
   "file_extension": ".py",
   "mimetype": "text/x-python",
   "name": "python",
   "nbconvert_exporter": "python",
   "pygments_lexer": "ipython3",
   "version": "3.7.3"
  }
 },
 "nbformat": 4,
 "nbformat_minor": 2
}
