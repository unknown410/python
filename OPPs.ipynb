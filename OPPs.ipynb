{
 "cells": [
  {
   "cell_type": "code",
   "execution_count": 3,
   "metadata": {},
   "outputs": [
    {
     "name": "stdout",
     "output_type": "stream",
     "text": [
      "<class '__main__.computer'>\n",
      "<class 'str'>\n"
     ]
    }
   ],
   "source": [
    "class computer:\n",
    "    \n",
    "    def config(self):\n",
    "        print(\"i5, 16gb ,1TB\")\n",
    "        \n",
    "\n",
    "        \n",
    "\n",
    "comp1 = computer()\n",
    "\n",
    "print(type(comp1))\n",
    "\n",
    "a=\"8\"\n",
    "print(type(a))"
   ]
  },
  {
   "cell_type": "code",
   "execution_count": 10,
   "metadata": {},
   "outputs": [
    {
     "name": "stdout",
     "output_type": "stream",
     "text": [
      "i5, 16gb ,1TB\n",
      "i5, 16gb ,1TB\n",
      "i5, 16gb ,1TB\n",
      "i5, 16gb ,1TB\n"
     ]
    }
   ],
   "source": [
    "class computer:\n",
    "    \n",
    "    def config(self):\n",
    "        print(\"i5, 16gb ,1TB\")\n",
    "        \n",
    "\n",
    "        \n",
    "\n",
    "comp1 = computer()\n",
    "comp2 = computer()\n",
    "\n",
    "computer.config(comp1)\n",
    "computer.config(comp2)\n",
    "\n",
    "comp1.config()\n",
    "comp2.config()"
   ]
  },
  {
   "cell_type": "code",
   "execution_count": 11,
   "metadata": {},
   "outputs": [
    {
     "name": "stdout",
     "output_type": "stream",
     "text": [
      "in init\n",
      "in init\n",
      "i5, 16gb ,1TB\n",
      "i5, 16gb ,1TB\n"
     ]
    }
   ],
   "source": [
    "class computer:\n",
    "    \n",
    "    def __init__(self):\n",
    "        print(\"in init\")\n",
    "    \n",
    "    def config(self):\n",
    "        print(\"i5, 16gb ,1TB\")\n",
    "        \n",
    "\n",
    "        \n",
    "\n",
    "comp1 = computer()\n",
    "comp2 = computer()\n",
    "\n",
    "comp1.config()\n",
    "comp2.config()\n",
    "\n"
   ]
  },
  {
   "cell_type": "code",
   "execution_count": 18,
   "metadata": {},
   "outputs": [
    {
     "name": "stdout",
     "output_type": "stream",
     "text": [
      "config is  i5 16\n",
      "config is  Ryzen 3 8\n"
     ]
    }
   ],
   "source": [
    "class computer:\n",
    "    \n",
    "    def __init__(self, cpu, ram):\n",
    "        self.cpu = cpu\n",
    "        self.ram = ram\n",
    "    \n",
    "    def config(self):\n",
    "        print(\"config is \", self.cpu, self.ram)\n",
    "    \n",
    "comp1 = computer(\"i5\",16)\n",
    "comp2 = computer(\"Ryzen 3\", 8)\n",
    "\n",
    "comp1.config()\n",
    "comp2.config()"
   ]
  },
  {
   "cell_type": "code",
   "execution_count": 34,
   "metadata": {
    "scrolled": true
   },
   "outputs": [
    {
     "name": "stdout",
     "output_type": "stream",
     "text": [
      "they are same\n",
      "Navin\n",
      "Navin\n"
     ]
    }
   ],
   "source": [
    "\n",
    "class computer:\n",
    "    \n",
    "    def __init__(self):\n",
    "        self.name = 'Navin'\n",
    "        self.age = 28\n",
    "    \n",
    "    def update(self):\n",
    "        self.age = 30\n",
    "    \n",
    "    def compare(self,other):\n",
    "        if self.age == other.age:\n",
    "            return True\n",
    "        else:\n",
    "            return False\n",
    "        \n",
    "    \n",
    "c1 = computer()\n",
    "c2 = computer()\n",
    "\n",
    "if c1.compare(c2):\n",
    "    print(\"they are same\")\n",
    "\n",
    "\n",
    "c1.update()\n",
    "\n",
    "print(c1.name)\n",
    "print(c2.name)"
   ]
  },
  {
   "cell_type": "code",
   "execution_count": 35,
   "metadata": {},
   "outputs": [
    {
     "name": "stdout",
     "output_type": "stream",
     "text": [
      "they are same\n",
      "Navin\n",
      "28\n"
     ]
    }
   ],
   "source": [
    "\n",
    "class computer:\n",
    "    \n",
    "    def __init__(self):\n",
    "        self.name = 'Navin'\n",
    "        self.age = 28\n",
    "    \n",
    "    def update(self):\n",
    "        self.age = 30\n",
    "    \n",
    "    def compare(self,other):\n",
    "        if self.age == other.age:\n",
    "            return True\n",
    "        else:\n",
    "            return False\n",
    "        \n",
    "    \n",
    "c1 = computer()\n",
    "c2 = computer()\n",
    "\n",
    "if c1.compare(c2):\n",
    "    print(\"they are same\")\n",
    "else:\n",
    "    print(\"they are differnet\")\n",
    "\n",
    "\n",
    "print(c1.name)\n",
    "print(c1.age)"
   ]
  },
  {
   "cell_type": "code",
   "execution_count": 40,
   "metadata": {},
   "outputs": [
    {
     "name": "stdout",
     "output_type": "stream",
     "text": [
      "BMW 8 5\n",
      "BMW 10 5\n"
     ]
    }
   ],
   "source": [
    "\n",
    "class car:\n",
    "    \n",
    "    wheels = 4\n",
    "    \n",
    "    def __init__(self):\n",
    "        self.mil = 10\n",
    "        self.com = \"BMW\"\n",
    "  \n",
    "\n",
    "        \n",
    "c1 = car()\n",
    "c2 = car()\n",
    "\n",
    "c1.mil = 8\n",
    "\n",
    "car.wheels = 5\n",
    "\n",
    "\n",
    "print(c1.com, c1.mil, c1.wheels)\n",
    "print(c2.com, c2.mil, c2.wheels)"
   ]
  },
  {
   "cell_type": "code",
   "execution_count": 45,
   "metadata": {},
   "outputs": [
    {
     "name": "stdout",
     "output_type": "stream",
     "text": [
      "44.333333333333336\n",
      "44.0\n"
     ]
    }
   ],
   "source": [
    "\n",
    "\n",
    "class Student:\n",
    "    \n",
    "    school = \"Telusko\"\n",
    "    \n",
    "    def __init__(self, m1, m2, m3):\n",
    "        self.m1 =m1\n",
    "        self.m2 = m2\n",
    "        self.m3 = m3\n",
    "        \n",
    "    def avg(self):\n",
    "        return (self.m1+ self.m2 + self.m3)/3\n",
    "        \n",
    "    def get_(self):\n",
    "        return self.m1\n",
    "    \n",
    "    \n",
    "    def set_m1(self, value):\n",
    "        self.m = value\n",
    "\n",
    "        \n",
    "s1 = Student(34, 67, 32)\n",
    "s2 = Student(88, 32, 12)\n",
    "\n",
    "\n",
    "print(s1.avg())\n",
    "print(s2.avg())\n",
    "\n",
    "\n"
   ]
  },
  {
   "cell_type": "code",
   "execution_count": 49,
   "metadata": {},
   "outputs": [
    {
     "name": "stdout",
     "output_type": "stream",
     "text": [
      "44.333333333333336\n",
      "44.0\n",
      "Telusko\n",
      "this is student class in abc module\n"
     ]
    }
   ],
   "source": [
    "\n",
    "\n",
    "class Student:\n",
    "    \n",
    "    school = \"Telusko\"\n",
    "    \n",
    "    def __init__(self, m1, m2, m3):\n",
    "        self.m1 =m1\n",
    "        self.m2 = m2\n",
    "        self.m3 = m3\n",
    "        \n",
    "    def avg(self):\n",
    "        return (self.m1+ self.m2 + self.m3)/3\n",
    "    \n",
    "    \n",
    "    @classmethod\n",
    "    def getSchool(cls):\n",
    "        return cls.school\n",
    "    \n",
    "    @staticmethod\n",
    "    def info():\n",
    "        print(\"this is student class in abc module\")\n",
    "        \n",
    "\n",
    "        \n",
    "s1 = Student(34, 67, 32)\n",
    "s2 = Student(88, 32, 12)\n",
    "\n",
    "\n",
    "print(s1.avg())\n",
    "print(s2.avg())\n",
    "print(Student.getSchool())\n",
    "\n",
    "Student.info()\n"
   ]
  },
  {
   "cell_type": "code",
   "execution_count": 53,
   "metadata": {},
   "outputs": [
    {
     "name": "stdout",
     "output_type": "stream",
     "text": [
      "navin 2\n",
      "1943137385664\n",
      "1943137383480\n"
     ]
    }
   ],
   "source": [
    "\n",
    "\n",
    "class Student:\n",
    "    \n",
    "    def __init__(self, name ,rollno):\n",
    "        self.name=name\n",
    "        self.rollno=rollno\n",
    "        self.lap=self.Laptop()\n",
    "\n",
    "       \n",
    "    def show(self):\n",
    "        print(self.name, self.rollno)\n",
    "        \n",
    "    class Laptop:\n",
    "        \n",
    "        def __init__(self):\n",
    "            self.brand=\"HP\"\n",
    "            self.cpu=\"i5\"\n",
    "            self.ram=8\n",
    "        \n",
    "        \n",
    "        \n",
    "s1=Student(\"navin\", 2)\n",
    "s2=Student(\"Jerry\", 3)\n",
    "\n",
    "#print(s1.name, s1.rollno)\n",
    "s1.show()\n",
    "\n",
    "#s1.lap.brand\n",
    "lap1=s1.lap\n",
    "lap2=s2.lap\n",
    "\n",
    "print(id(lap1))\n",
    "print(id(lap2))"
   ]
  },
  {
   "cell_type": "code",
   "execution_count": 57,
   "metadata": {},
   "outputs": [
    {
     "name": "stdout",
     "output_type": "stream",
     "text": [
      "navin 2\n",
      "HP i5 8\n"
     ]
    }
   ],
   "source": [
    "#single / multilevel inheritance\n",
    "\n",
    "class Student:\n",
    "    \n",
    "    def __init__(self, name ,rollno):\n",
    "        self.name=name\n",
    "        self.rollno=rollno\n",
    "        self.lap=self.Laptop()\n",
    "\n",
    "       \n",
    "    def show(self):\n",
    "        print(self.name, self.rollno)\n",
    "        self.lap.show()\n",
    "        \n",
    "    class Laptop:\n",
    "        \n",
    "        def __init__(self):\n",
    "            self.brand=\"HP\"\n",
    "            self.cpu=\"i5\"\n",
    "            self.ram=8\n",
    "        \n",
    "        def show(self):\n",
    "            print(self.brand,self.cpu,self.ram)\n",
    "        \n",
    "        \n",
    "s1=Student(\"navin\", 2)\n",
    "s2=Student(\"Jerry\", 3)\n",
    "\n",
    "s1.show()\n",
    "\n"
   ]
  },
  {
   "cell_type": "code",
   "execution_count": 58,
   "metadata": {},
   "outputs": [
    {
     "name": "stdout",
     "output_type": "stream",
     "text": [
      "Feature 1 working\n",
      "Feature 2 working\n"
     ]
    }
   ],
   "source": [
    "#multiple inheritance\n",
    "\n",
    "class A:\n",
    "    def feature1(self):\n",
    "        print(\"Feature 1 working\")\n",
    "        \n",
    "    def feature2(self):\n",
    "        print(\"Feature 2 working\")\n",
    "        \n",
    "        \n",
    "class B(A):\n",
    "    def feature3(self):\n",
    "        print(\"Feature 3 working\")\n",
    "        \n",
    "    def feature4(self):\n",
    "        print(\"Feature 4 working\")\n",
    "        \n",
    "        \n",
    "class C(B):\n",
    "    def feature5(self):\n",
    "        print(\"Feature 5 working\")\n",
    "        \n",
    "        \n",
    "a1 = A()\n",
    "\n",
    "a1.feature1()\n",
    "a1.feature2()\n",
    "\n",
    "b1 = B()\n",
    "\n",
    "c1 = C()\n",
    "\n",
    "\n"
   ]
  },
  {
   "cell_type": "code",
   "execution_count": 59,
   "metadata": {},
   "outputs": [
    {
     "name": "stdout",
     "output_type": "stream",
     "text": [
      "Feature 1 working\n",
      "Feature 2 working\n",
      "Feature 4 working\n",
      "Feature 5 working\n"
     ]
    }
   ],
   "source": [
    "class A:\n",
    "    def feature1(self):\n",
    "        print(\"Feature 1 working\")\n",
    "        \n",
    "    def feature2(self):\n",
    "        print(\"Feature 2 working\")\n",
    "        \n",
    "        \n",
    "class B:\n",
    "    def feature3(self):\n",
    "        print(\"Feature 3 working\")\n",
    "        \n",
    "    def feature4(self):\n",
    "        print(\"Feature 4 working\")\n",
    "        \n",
    "        \n",
    "class C(A,B):\n",
    "    def feature5(self):\n",
    "        print(\"Feature 5 working\")\n",
    "        \n",
    "        \n",
    "a1 = A()\n",
    "\n",
    "a1.feature1()\n",
    "a1.feature2()\n",
    "\n",
    "b1 = B()\n",
    "b1.feature4()\n",
    "\n",
    "c1 = C()\n",
    "c1.feature5()\n",
    "\n"
   ]
  },
  {
   "cell_type": "code",
   "execution_count": 64,
   "metadata": {},
   "outputs": [
    {
     "name": "stdout",
     "output_type": "stream",
     "text": [
      "in A Init\n",
      "in B Init\n"
     ]
    }
   ],
   "source": [
    "# Constructor inHeritance and method Resolution order (MOR)\n",
    "\n",
    "class A:\n",
    "    def __init__(self):\n",
    "        print(\"in A Init\")\n",
    "    \n",
    "    def feature1(self):\n",
    "        print(\"Feature 1 working\")\n",
    "        \n",
    "    def feature2(self):\n",
    "        print(\"Feature 2 working\")\n",
    "        \n",
    "        \n",
    "class B(A):\n",
    "    \n",
    "    def __init__(self):\n",
    "        super().__init__()\n",
    "        print(\"in B Init\")\n",
    "    \n",
    "    def feature3(self):\n",
    "        print(\"Feature 3 working\")\n",
    "        \n",
    "    def feature4(self):\n",
    "        print(\"Feature 4 working\")\n",
    "        \n",
    "        \n",
    "#a1 = A()\n",
    "\n",
    "b1 = B()"
   ]
  },
  {
   "cell_type": "code",
   "execution_count": 71,
   "metadata": {},
   "outputs": [
    {
     "name": "stdout",
     "output_type": "stream",
     "text": [
      "in A Init\n",
      "in C init\n",
      "Feature 2 working\n"
     ]
    }
   ],
   "source": [
    "# Constructor inHeritance and method Resolution order (MOR)\n",
    "\n",
    "class A:\n",
    "    def __init__(self):\n",
    "        print(\"in A Init\")\n",
    "    \n",
    "    def feature1(self):\n",
    "        print(\"Feature 1-A working\")\n",
    "        \n",
    "    def feature2(self):\n",
    "        print(\"Feature 2 working\")\n",
    "        \n",
    "        \n",
    "class B:\n",
    "    \n",
    "    def __init__(self):\n",
    "        print(\"in B Init\")\n",
    "    \n",
    "    def feature1(self):\n",
    "        print(\"Feature 1-B working\")\n",
    "        \n",
    "    def feature4(self):\n",
    "        print(\"Feature 4 working\")\n",
    "        \n",
    "        \n",
    "class C(A,B):\n",
    "    \n",
    "    def __init__(self):\n",
    "        super().__init__()\n",
    "        print(\"in C init\")\n",
    "        \n",
    "    def feat(self):\n",
    "        super().feature2()\n",
    "        \n",
    "#a1 = A()\n",
    "\n",
    "#b1 = B()\n",
    "\n",
    "c1 = C()\n",
    "c1.feat()"
   ]
  },
  {
   "cell_type": "code",
   "execution_count": 73,
   "metadata": {},
   "outputs": [],
   "source": [
    "#intro to polymorphism\n",
    "\n",
    "#1 duck typing\n",
    "#2 operator overloading\n",
    "#3 method ,overloading\n",
    "#4 method overriding\n"
   ]
  },
  {
   "cell_type": "code",
   "execution_count": 82,
   "metadata": {},
   "outputs": [
    {
     "name": "stdout",
     "output_type": "stream",
     "text": [
      "spell check\n",
      "convention check\n",
      "compiling\n",
      "running\n"
     ]
    }
   ],
   "source": [
    "# duck typing\n",
    "\n",
    "class Jupyter:\n",
    "    \n",
    "    def execute(self):\n",
    "        print(\"compiling\")\n",
    "        print(\"running\")\n",
    "\n",
    "\n",
    "class Myeditor:\n",
    "    \n",
    "    def execute(self):\n",
    "        print(\"spell check\")\n",
    "        print(\"convention check\")\n",
    "        print(\"compiling\")\n",
    "        print(\"running\")\n",
    "        \n",
    "        \n",
    "\n",
    "class Laptop:\n",
    "    \n",
    "    def code(self,ide):\n",
    "        ide.execute()\n",
    "        \n",
    "#ide = Jupyter()\n",
    "ide = Myeditor()\n",
    "        \n",
    "        \n",
    "lap1 = Laptop()\n",
    "\n",
    "lap1.code(ide)"
   ]
  },
  {
   "cell_type": "code",
   "execution_count": 87,
   "metadata": {},
   "outputs": [
    {
     "name": "stdout",
     "output_type": "stream",
     "text": [
      "56\n",
      "56\n"
     ]
    }
   ],
   "source": [
    "# operator overloading\n",
    "\n",
    "\n",
    "a = '5'\n",
    "b = '6'\n",
    "\n",
    "print(a+b)\n",
    "\n",
    "print(str.__add__(a,b))\n"
   ]
  },
  {
   "cell_type": "code",
   "execution_count": 9,
   "metadata": {},
   "outputs": [
    {
     "name": "stdout",
     "output_type": "stream",
     "text": [
      "s2 win\n",
      "9\n",
      "(58, 69)\n"
     ]
    }
   ],
   "source": [
    "class Student:\n",
    "\n",
    "    def __init__(self, m1, m2):\n",
    "        self.m1= m1\n",
    "        self.m2= m2\n",
    "        \n",
    "    def __add__(self,other):\n",
    "        m1= self.m1 + other.m1\n",
    "        m2= self.m2 + other.m2\n",
    "        s3 = Student(m1,m2)\n",
    "        return s3\n",
    "        \n",
    "    \n",
    "    def __gt__(self,other):\n",
    "        r1 = self.m1 + self.m2\n",
    "        r2= other.m1 +other.m2\n",
    "        if r1> r2:\n",
    "            return True\n",
    "        else:\n",
    "            return False\n",
    "        \n",
    "    def __str__(self):\n",
    "        return self.m1, self.m2\n",
    "        \n",
    "        \n",
    "s1 = Student(58,69)\n",
    "s2 = Student(69, 65)\n",
    "\n",
    "s3 = s1+s2    # Student.__add__(s1,s2)\n",
    "\n",
    "if s1 > s2:\n",
    "    print(\"s1 win\")\n",
    "else:\n",
    "    print(\"s2 win\")\n",
    "\n",
    "\n",
    "a=9\n",
    "\n",
    "print(a.__str__())\n",
    "\n",
    "print(s1.__str__())\n"
   ]
  },
  {
   "cell_type": "code",
   "execution_count": 11,
   "metadata": {},
   "outputs": [
    {
     "name": "stdout",
     "output_type": "stream",
     "text": [
      "s2 win\n",
      "9\n",
      "58 69\n",
      "69 65\n"
     ]
    }
   ],
   "source": [
    "class Student:\n",
    "\n",
    "    def __init__(self, m1, m2):\n",
    "        self.m1= m1\n",
    "        self.m2= m2\n",
    "        \n",
    "    def __add__(self,other):\n",
    "        m1= self.m1 + other.m1\n",
    "        m2= self.m2 + other.m2\n",
    "        s3 = Student(m1,m2)\n",
    "        return s3\n",
    "        \n",
    "    \n",
    "    def __gt__(self,other):\n",
    "        r1 = self.m1 + self.m2\n",
    "        r2= other.m1 +other.m2\n",
    "        if r1> r2:\n",
    "            return True\n",
    "        else:\n",
    "            return False\n",
    "        \n",
    "    def __str__(self):\n",
    "        return \"{} {}\".format(self.m1, self.m2)\n",
    "        \n",
    "        \n",
    "s1 = Student(58,69)\n",
    "s2 = Student(69, 65)\n",
    "\n",
    "s3 = s1+s2    # Student.__add__(s1,s2)\n",
    "\n",
    "if s1 > s2:\n",
    "    print(\"s1 win\")\n",
    "else:\n",
    "    print(\"s2 win\")\n",
    "\n",
    "\n",
    "a=9\n",
    "\n",
    "print(a.__str__())\n",
    "\n",
    "print(s1)\n",
    "print(s2)\n"
   ]
  },
  {
   "cell_type": "code",
   "execution_count": 20,
   "metadata": {},
   "outputs": [
    {
     "name": "stdout",
     "output_type": "stream",
     "text": [
      "20\n",
      "14\n",
      "5\n"
     ]
    }
   ],
   "source": [
    "# method overloading\n",
    "\n",
    "\n",
    "class Student:\n",
    "\n",
    "    def __init__(self, m1, m2):\n",
    "        self.m1= m1\n",
    "        self.m2= m2\n",
    "        \n",
    "    def sum(self, a=None, b=None, c=None):\n",
    "        \n",
    "        s=0\n",
    "        \n",
    "        if a!=None and b!=None and c!=None:\n",
    "            s= a+b+c\n",
    "        elif a!=None and b!=None:\n",
    "            s= a+b\n",
    "        else:\n",
    "            s=a\n",
    "            \n",
    "        return s\n",
    "        \n",
    "    \n",
    "s1 = Student(58,69)\n",
    "\n",
    "print(s1.sum(5,9,6))\n",
    "\n",
    "print(s1.sum(5,9))\n",
    "\n",
    "print(s1.sum(5))\n",
    "\n"
   ]
  },
  {
   "cell_type": "code",
   "execution_count": 24,
   "metadata": {},
   "outputs": [
    {
     "name": "stdout",
     "output_type": "stream",
     "text": [
      "in B show\n"
     ]
    }
   ],
   "source": [
    "# method overriding\n",
    "\n",
    "class A:\n",
    "    \n",
    "    def show(self):\n",
    "        print(\"in A show\")\n",
    "        \n",
    "class B(A):\n",
    "    def show(self):\n",
    "        print(\"in B show\")\n",
    "        \n",
    "        \n",
    "        \n",
    "a1= B()\n",
    "a1.show()"
   ]
  },
  {
   "cell_type": "code",
   "execution_count": null,
   "metadata": {},
   "outputs": [],
   "source": []
  }
 ],
 "metadata": {
  "kernelspec": {
   "display_name": "Python 3",
   "language": "python",
   "name": "python3"
  },
  "language_info": {
   "codemirror_mode": {
    "name": "ipython",
    "version": 3
   },
   "file_extension": ".py",
   "mimetype": "text/x-python",
   "name": "python",
   "nbconvert_exporter": "python",
   "pygments_lexer": "ipython3",
   "version": "3.7.3"
  }
 },
 "nbformat": 4,
 "nbformat_minor": 2
}
