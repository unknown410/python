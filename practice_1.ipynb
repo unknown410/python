{
 "cells": [
  {
   "cell_type": "code",
   "execution_count": 5,
   "metadata": {},
   "outputs": [],
   "source": [
    "import pygame\n",
    "pygame.init()\n",
    "\n",
    "win= pygame.display.set_mode((500,500))\n",
    "pygame.display.set_caption(\"pythongame\")\n",
    "\n",
    "x=50\n",
    "y=50\n",
    "width=40\n",
    "height=60\n",
    "vel=5\n",
    "\n",
    "run =True\n",
    "while(run):\n",
    "    pygame.time.delay(100)\n",
    "    \n",
    "    for event in pygame.event.get():\n",
    "        if event.type== pygame.QUIT:\n",
    "            run=False\n",
    "    \n",
    "    keys= pygame.key.get_pressed()\n",
    "    \n",
    "    if keys[pygame.K_LEFT]:\n",
    "            x-=vel\n",
    "    if keys[pygame.K_RIGHT]:\n",
    "            x+=vel\n",
    "    if keys[pygame.K_UP]:\n",
    "            y-=vel\n",
    "    if keys[pygame.K_DOWN]:\n",
    "            y+=vel\n",
    "        \n",
    "    win.fill((0,0,0))\n",
    "    pygame.draw.rect(win, (255,0,0),(x,y,width,height))\n",
    "    pygame.display.update()\n",
    "           \n",
    "        \n",
    "pygame.quit()"
   ]
  },
  {
   "cell_type": "code",
   "execution_count": null,
   "metadata": {},
   "outputs": [],
   "source": []
  },
  {
   "cell_type": "code",
   "execution_count": null,
   "metadata": {},
   "outputs": [],
   "source": []
  },
  {
   "cell_type": "code",
   "execution_count": null,
   "metadata": {},
   "outputs": [],
   "source": []
  },
  {
   "cell_type": "code",
   "execution_count": null,
   "metadata": {},
   "outputs": [],
   "source": []
  },
  {
   "cell_type": "code",
   "execution_count": null,
   "metadata": {},
   "outputs": [],
   "source": []
  },
  {
   "cell_type": "code",
   "execution_count": null,
   "metadata": {},
   "outputs": [],
   "source": []
  },
  {
   "cell_type": "code",
   "execution_count": null,
   "metadata": {},
   "outputs": [],
   "source": []
  },
  {
   "cell_type": "code",
   "execution_count": null,
   "metadata": {},
   "outputs": [],
   "source": []
  },
  {
   "cell_type": "code",
   "execution_count": 6,
   "metadata": {},
   "outputs": [
    {
     "name": "stdout",
     "output_type": "stream",
     "text": [
      "3\n",
      "153\n",
      "147\n",
      "123\n",
      "27\n",
      "152\n",
      "153\n",
      "It is an ARMSTRONG number\n",
      "343\n",
      "407\n",
      "408\n",
      "It is NOT an ARMSTRONG number\n",
      "27\n",
      "35\n",
      "36\n",
      "It is NOT an ARMSTRONG number\n"
     ]
    }
   ],
   "source": [
    "a=int(input())\n",
    "lst=[]\n",
    "for i in range(3):\n",
    "    lst.append(int(input()))\n",
    "for i in range(3):\n",
    "    temp=lst[i]\n",
    "    cube=0\n",
    "    while(lst[i]!=0):\n",
    "        r=lst[i]%10\n",
    "        cube=cube+ r**3\n",
    "        print(cube)\n",
    "        lst[i]=lst[i]//10\n",
    "    \n",
    "    if temp==cube:\n",
    "        print(\"It is an ARMSTRONG number\")\n",
    "        \n",
    "    else:\n",
    "        print(\"It is NOT an ARMSTRONG number\")"
   ]
  },
  {
   "cell_type": "code",
   "execution_count": 9,
   "metadata": {},
   "outputs": [
    {
     "name": "stdout",
     "output_type": "stream",
     "text": [
      "0\n",
      "1\n",
      "153\n",
      "370\n",
      "371\n",
      "407\n"
     ]
    }
   ],
   "source": [
    "for i in range(1000):\n",
    "    temp=i\n",
    "    cube=0\n",
    "    while(i!=0):\n",
    "        r=i%10\n",
    "        cube=cube+ r**3\n",
    "        i=i//10\n",
    "    \n",
    "    if temp==cube:\n",
    "        print(temp)\n",
    "        "
   ]
  },
  {
   "cell_type": "code",
   "execution_count": null,
   "metadata": {},
   "outputs": [],
   "source": []
  }
 ],
 "metadata": {
  "kernelspec": {
   "display_name": "Python 3",
   "language": "python",
   "name": "python3"
  },
  "language_info": {
   "codemirror_mode": {
    "name": "ipython",
    "version": 3
   },
   "file_extension": ".py",
   "mimetype": "text/x-python",
   "name": "python",
   "nbconvert_exporter": "python",
   "pygments_lexer": "ipython3",
   "version": "3.7.3"
  }
 },
 "nbformat": 4,
 "nbformat_minor": 2
}
