{
 "cells": [
  {
   "cell_type": "markdown",
   "metadata": {},
   "source": [
    "Linear Regression is one of the most common, years old and most easily understandable in statistics and machine learning. It comes under predictive modelling. Predictive modelling is a kind of modelling here the possible output(Y) for the given input(X) is predicted based on the previous data or values.\n",
    "\n",
    "Types\n",
    "1)Simple Linear Regression: It is characterized by one independent variable. Consider the price of the house based only one field that is the size of the plot then that would be a simple linear regression.\n",
    "\n",
    "2)Multiple Linear Regression: It is characterized by multiple independent variables. The price of the house if depends on more that one like the size of the plot area, the economy then it is considered as multiple linear regression which is in most real-world scenarios.\n",
    "\n",
    "Equation:\n",
    "Y = aX + b\n",
    "\n",
    "where,\n",
    "a: slope of the line, b: constant(Y-intercept,where X=0, X:Independent variable, Y:Dependent variable\n",
    "\n",
    "Here the main aim is to find the best fit line, which minimizes error(the sum of the square of the distance between points and the line). The distance between the points and line are taken and each of them is squared to get rid of negative values and then the values are summed which gives the error which needs to be minimized."
   ]
  },
  {
   "cell_type": "code",
   "execution_count": 2,
   "metadata": {},
   "outputs": [
    {
     "data": {
      "image/png": "[encoded data removed]",
      "text/plain": [
       "<Figure size 432x288 with 1 Axes>"
      ]
     },
     "metadata": {},
     "output_type": "display_data"
    }
   ],
   "source": [
    "import numpy as np\n",
    "import matplotlib.pyplot as plt\n",
    "%matplotlib inline\n",
    "x = np.array([0, 1, 2, 3, 4, 5, 6, 7, 8, 9]) \n",
    "y = np.array([1, 3, 2, 5, 7, 8, 8, 9, 10, 12])\n",
    "plt.scatter(x,y)\n",
    "plt.show()"
   ]
  },
  {
   "cell_type": "markdown",
   "metadata": {},
   "source": [
    "Now, the task is to find a line which fits best in above scatter plot so that we can predict the response for any new feature values.(i.e a value of x not present in dataset)\n",
    "This line is called regression line.\n",
    "\n",
    "The equation of regression line is represented as:\n",
    "\n",
    " h(xi) = b0 + b1xi \n",
    "\n",
    "Here,\n",
    "\n",
    "h(x_i) represents the predicted response value for ith observation.\n",
    "b_0 and b_1 are regression coefficients and represent y-intercept and slope of regression line respectively.\n",
    "To create our model, we must “learn” or estimate the values of regression coefficients b_0 and b_1. And once we’ve estimated these coefficients, we can use the model to predict responses!\n",
    "\n",
    "In this article, we are going to use the Least Squares technique.\n",
    "\n",
    "Now consider:\n",
    "\n",
    " yi = b0 + b1xi + ei = h(xi) + ei =>ei = yi -h(xi) \n",
    "\n",
    "Here, e_i is residual error in ith observation.\n",
    "So, our aim is to minimize the total residual error.\n",
    "\n",
    "We define the squared error or cost function,\n",
    "\n",
    "and our task is to find the value of b_0 and b_1 for which J(b_0,b_1) is minimum!\n",
    "\n",
    "Note: The complete derivation for finding least squares estimates in simple linear regression in SLR_Leastsquares.pdf"
   ]
  },
  {
   "cell_type": "code",
   "execution_count": 2,
   "metadata": {},
   "outputs": [
    {
     "name": "stdout",
     "output_type": "stream",
     "text": [
      "Estimated coefficients:\n",
      "b_0 = 1.2363636363636363      \n",
      "b_1 = 1.1696969696969697\n"
     ]
    },
    {
     "data": {
      "image/png": "[encoded data removed]",
      "text/plain": [
       "<Figure size 432x288 with 1 Axes>"
      ]
     },
     "metadata": {},
     "output_type": "display_data"
    }
   ],
   "source": [
    "import numpy as np \n",
    "import matplotlib.pyplot as plt \n",
    "\n",
    "def estimate_coef(x, y): \n",
    "\t# number of observations/points \n",
    "\tn = np.size(x) \n",
    "\n",
    "\t# mean of x and y vector \n",
    "\tm_x, m_y = np.mean(x), np.mean(y) \n",
    "\n",
    "\t# calculating cross-deviation and deviation about x \n",
    "\tSS_xy = np.sum(y*x) - n*m_y*m_x \n",
    "\tSS_xx = np.sum(x*x) - n*m_x*m_x \n",
    "\n",
    "\t# calculating regression coefficients \n",
    "\tb_1 = SS_xy / SS_xx \n",
    "\tb_0 = m_y - b_1*m_x \n",
    "\n",
    "\treturn(b_0, b_1) \n",
    "\n",
    "def plot_regression_line(x, y, b): \n",
    "\t# plotting the actual points as scatter plot \n",
    "\tplt.scatter(x, y, color = \"m\", \n",
    "\t\t\tmarker = \"o\", s = 30) \n",
    "\n",
    "\t# predicted response vector \n",
    "\ty_pred = b[0] + b[1]*x \n",
    "\n",
    "\t# plotting the regression line \n",
    "\tplt.plot(x, y_pred, color = \"g\") \n",
    "\n",
    "\t# putting labels \n",
    "\tplt.xlabel('x') \n",
    "\tplt.ylabel('y') \n",
    "\n",
    "\t# function to show plot \n",
    "\tplt.show() \n",
    "\n",
    "def main(): \n",
    "\t# observations \n",
    "\tx = np.array([0, 1, 2, 3, 4, 5, 6, 7, 8, 9]) \n",
    "\ty = np.array([1, 3, 2, 5, 7, 8, 8, 9, 10, 12]) \n",
    "\n",
    "\t# estimating coefficients \n",
    "\tb = estimate_coef(x, y) \n",
    "\tprint(\"Estimated coefficients:\\nb_0 = {}  \\\n",
    "    \\nb_1 = {}\".format(b[0], b[1])) \n",
    "\n",
    "\t# plotting regression line \n",
    "\tplot_regression_line(x, y, b) \n",
    "\n",
    "if __name__ == \"__main__\": \n",
    "\tmain() \n"
   ]
  },
  {
   "cell_type": "markdown",
   "metadata": {},
   "source": [
    "The sign of each coefficient indicates the direction of the relationship between a predictor variable and the response variable.\n",
    "\n",
    "A positive sign indicates that as the predictor variable increases, the response variable also increases.\n",
    "A negative sign indicates that as the predictor variable increases, the response variable decreases."
   ]
  },
  {
   "cell_type": "code",
   "execution_count": 3,
   "metadata": {},
   "outputs": [],
   "source": [
    "#Now prepare your data for your practice:\n",
    "#X — House size from 1K sq feet to 10K sq feet.\n",
    "#Y — Cost of the house from 300K to 1200K."
   ]
  },
  {
   "cell_type": "code",
   "execution_count": 4,
   "metadata": {},
   "outputs": [
    {
     "data": {
      "image/png": "[encoded data removed]",
      "text/plain": [
       "<Figure size 432x288 with 1 Axes>"
      ]
     },
     "metadata": {},
     "output_type": "display_data"
    }
   ],
   "source": [
    "x = [1,2,3,4,5,6,7,8,9,10]\n",
    "y = [300,350,500,700,800,850,900,900,1000,1200]\n",
    "plt.scatter(x,y)\n",
    "plt.show()"
   ]
  },
  {
   "cell_type": "markdown",
   "metadata": {},
   "source": [
    "Now we need to find the regression line(a line which fits best in the above scatter plot so that we can predict the response y(ie. cost of the house) for any new values of x(ie. size of the house)."
   ]
  },
  {
   "cell_type": "markdown",
   "metadata": {},
   "source": [
    "# Function1: It is a function to determine or estimate the coefficients where x and y values are passed into this function."
   ]
  },
  {
   "cell_type": "markdown",
   "metadata": {},
   "source": [
    "Steps include:\n",
    "1)Calculate n\n",
    "2)Calculate the mean of both x and y numpy array.\n",
    "3)Calculate cross-deviation and deviation: Just remember here we are calculating SS_xy and SS_xx which is Sum of Squared Errors.\n",
    "4)Calculate regression coefficients: The amount or value by which the regression line needs to be moved."
   ]
  },
  {
   "cell_type": "code",
   "execution_count": 5,
   "metadata": {},
   "outputs": [],
   "source": [
    "def estimate_coef(x, y): \n",
    "\t# number of observations/points \n",
    "\tn = np.size(x) \n",
    "\n",
    "\t# mean of x and y vector \n",
    "\tm_x, m_y = np.mean(x), np.mean(y) \n",
    "\n",
    "\t# calculating cross-deviation and deviation about x \n",
    "\tSS_xy = np.sum(y*x) - n*m_y*m_x \n",
    "\tSS_xx = np.sum(x*x) - n*m_x*m_x \n",
    "\n",
    "\t# calculating regression coefficients \n",
    "\tb_1 = SS_xy / SS_xx \n",
    "\tb_0 = m_y - b_1*m_x \n",
    "\n",
    "\treturn(b_0, b_1) "
   ]
  },
  {
   "cell_type": "markdown",
   "metadata": {},
   "source": [
    "Function2: It is a function to plot the graph based on calculated values.\n",
    "Steps include:\n",
    "1)Plot the points: “plt.scatter” plots the points on the graph where\n",
    "-“x and y” are the locations of the points on the graph\n",
    "-“color” is the colour of the plotted points change it to red or green or orange and play around for more possible colours check: https://matplotlib.org/api/_as_gen/matplotlib.pyplot.scatter.html\n",
    "-“marker” is the shape of the points like a circle or any other symbols for different types of marker check: https://matplotlib.org/api/markers_api.html#module-matplotlib.markers\n",
    "\n",
    "2. Predict the regression line value: Take the minimum error possible, the regression line is decided here.\n",
    "\n",
    "3. Plot the regression line\n",
    "\n",
    "4. Labels are put here instead of just x and y ie the name for x and y are put on the graph here.\n",
    "\n",
    "5. Show the plotted graph"
   ]
  },
  {
   "cell_type": "code",
   "execution_count": 6,
   "metadata": {},
   "outputs": [],
   "source": [
    "def plot_regression_line(x, y, b): \n",
    "\t# plotting the actual points as scatter plot \n",
    "\tplt.scatter(x, y, color = \"m\", \n",
    "\t\t\tmarker = \"o\", s = 30) \n",
    "\n",
    "\t# predicted response vector \n",
    "\ty_pred = b[0] + b[1]*x \n",
    "\n",
    "\t# plotting the regression line \n",
    "\tplt.plot(x, y_pred, color = \"g\") \n",
    "\n",
    "\t# putting labels \n",
    "\tplt.xlabel('x') \n",
    "\tplt.ylabel('y') \n",
    "\n",
    "\t# function to show plot \n",
    "\tplt.show() \n"
   ]
  },
  {
   "cell_type": "markdown",
   "metadata": {},
   "source": [
    "Function3: Main function\n",
    "Steps include:\n",
    "1)Gather the data sets required ie. x and y.\n",
    "2)Calculate coefficients required ie. the value of moving of regression line in both x and y-direction.\n",
    "3)Plot the graph\n",
    "4)Lastly, write the main and call the main function:"
   ]
  },
  {
   "cell_type": "code",
   "execution_count": 7,
   "metadata": {},
   "outputs": [
    {
     "name": "stdout",
     "output_type": "stream",
     "text": [
      "Estimated coefficients:\n",
      "b_0 = 1.2363636363636363      \n",
      "b_1 = 1.1696969696969697\n"
     ]
    },
    {
     "data": {
      "image/png": "[encoded data removed]",
      "text/plain": [
       "<Figure size 432x288 with 1 Axes>"
      ]
     },
     "metadata": {},
     "output_type": "display_data"
    }
   ],
   "source": [
    "def main(): \n",
    "\t# observations \n",
    "\tx = np.array([0, 1, 2, 3, 4, 5, 6, 7, 8, 9]) \n",
    "\ty = np.array([1, 3, 2, 5, 7, 8, 8, 9, 10, 12]) \n",
    "\n",
    "\t# estimating coefficients \n",
    "\tb = estimate_coef(x, y) \n",
    "\tprint(\"Estimated coefficients:\\nb_0 = {}  \\\n",
    "    \\nb_1 = {}\".format(b[0], b[1])) \n",
    "\n",
    "\t# plotting regression line \n",
    "\tplot_regression_line(x, y, b) \n",
    "\n",
    "if __name__ == \"__main__\": \n",
    "\tmain() "
   ]
  },
  {
   "cell_type": "markdown",
   "metadata": {},
   "source": [
    "A linear regression model with two predictor variables can be expressed with the following equation:\n",
    "\n",
    "Y = B0 + B1*X1 + B2*X2 + e.\n",
    "\n",
    "The variables in the model are:\n",
    "Y, the response variable;\n",
    "X1, the first predictor variable;\n",
    "X2, the second predictor variable; and\n",
    "e, the residual error, which is an unmeasured variable.\n",
    "\n",
    "The parameters in the model are:\n",
    "\n",
    "B0, the Y-intercept;\n",
    "B1, the first regression coefficient; and\n",
    "B2, the second regression coefficient."
   ]
  },
  {
   "cell_type": "code",
   "execution_count": 11,
   "metadata": {},
   "outputs": [
    {
     "name": "stdout",
     "output_type": "stream",
     "text": [
      "RMSE\n",
      "72.1206213783709\n",
      "R2 Score\n",
      "0.639311719957\n"
     ]
    }
   ],
   "source": [
    "import numpy as np\n",
    "import pandas as pd\n",
    "from sklearn.linear_model import LinearRegression\n",
    "from sklearn.metrics import mean_squared_error\n",
    "\n",
    "# Reading Data\n",
    "data = pd.read_csv('D:\\DATA SCIENCE\\python\\ML\\potential-enigma-master/headbrain.csv')\n",
    "data.head()\n",
    "\n",
    "# Collecting X and Y\n",
    "X = data['Head Size(cm^3)'].values\n",
    "Y = data['Brain Weight(grams)'].values\n",
    "\n",
    "m = len(X)\n",
    "\n",
    "X = X.reshape((m, 1))\n",
    "# Model Intialization\n",
    "reg = LinearRegression()\n",
    "# Data Fitting\n",
    "reg = reg.fit(X, Y)\n",
    "# Y Prediction\n",
    "Y_pred = reg.predict(X)\n",
    "\n",
    "# Model Evaluation\n",
    "rmse = np.sqrt(mean_squared_error(Y, Y_pred))\n",
    "r2 = reg.score(X, Y)\n",
    "\n",
    "print(\"RMSE\")\n",
    "print(rmse)\n",
    "print(\"R2 Score\")\n",
    "print(r2)"
   ]
  },
  {
   "cell_type": "code",
   "execution_count": null,
   "metadata": {},
   "outputs": [],
   "source": []
  }
 ],
 "metadata": {
  "kernelspec": {
   "display_name": "Python 3",
   "language": "python",
   "name": "python3"
  },
  "language_info": {
   "codemirror_mode": {
    "name": "ipython",
    "version": 3
   },
   "file_extension": ".py",
   "mimetype": "text/x-python",
   "name": "python",
   "nbconvert_exporter": "python",
   "pygments_lexer": "ipython3",
   "version": "3.7.3"
  }
 },
 "nbformat": 4,
 "nbformat_minor": 2
}
